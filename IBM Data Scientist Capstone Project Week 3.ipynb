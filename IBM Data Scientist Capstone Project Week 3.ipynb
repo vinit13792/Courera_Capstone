{
    "nbformat_minor": 1, 
    "cells": [
        {
            "source": "# IBM DATA SCIENTIST PROFESSIONAL CERTIFICATE - CAPSTONE PROJECT WEEK 3\n\n\n\n## Segmenting and Clustering Neighborhoods in Toronto", 
            "cell_type": "markdown", 
            "metadata": {
                "collapsed": true
            }
        }, 
        {
            "source": "## PART 1\n### Using the pandas function \"read_html\" we can easily process the HTML string. \n### This particular table doesn't have <th> tags in the HTML markup, so we set header = 0 to use the first row as column names.\n### Since we will discard the \"Not Assigned\" rows, we set them to NaN so we can later use the dropna method directly to discard such rows.", 
            "cell_type": "markdown", 
            "metadata": {}
        }, 
        {
            "execution_count": 1, 
            "cell_type": "code", 
            "metadata": {}, 
            "outputs": [
                {
                    "execution_count": 1, 
                    "metadata": {}, 
                    "data": {
                        "text/html": "<div>\n<style scoped>\n    .dataframe tbody tr th:only-of-type {\n        vertical-align: middle;\n    }\n\n    .dataframe tbody tr th {\n        vertical-align: top;\n    }\n\n    .dataframe thead th {\n        text-align: right;\n    }\n</style>\n<table border=\"1\" class=\"dataframe\">\n  <thead>\n    <tr style=\"text-align: right;\">\n      <th></th>\n      <th>Postal Code</th>\n      <th>Borough</th>\n      <th>Neighbourhood</th>\n    </tr>\n  </thead>\n  <tbody>\n    <tr>\n      <th>0</th>\n      <td>M1A</td>\n      <td>NaN</td>\n      <td>NaN</td>\n    </tr>\n    <tr>\n      <th>1</th>\n      <td>M2A</td>\n      <td>NaN</td>\n      <td>NaN</td>\n    </tr>\n    <tr>\n      <th>2</th>\n      <td>M3A</td>\n      <td>North York</td>\n      <td>Parkwoods</td>\n    </tr>\n    <tr>\n      <th>3</th>\n      <td>M4A</td>\n      <td>North York</td>\n      <td>Victoria Village</td>\n    </tr>\n    <tr>\n      <th>4</th>\n      <td>M5A</td>\n      <td>Downtown Toronto</td>\n      <td>Harbourfront</td>\n    </tr>\n  </tbody>\n</table>\n</div>", 
                        "text/plain": "  Postal Code           Borough     Neighbourhood\n0         M1A               NaN               NaN\n1         M2A               NaN               NaN\n2         M3A        North York         Parkwoods\n3         M4A        North York  Victoria Village\n4         M5A  Downtown Toronto      Harbourfront"
                    }, 
                    "output_type": "execute_result"
                }
            ], 
            "source": "import pandas as pd\n\nlink = \"https://en.wikipedia.org/wiki/List_of_postal_codes_of_Canada:_M\"\n\ntables = pd.read_html(link,header=0, na_values = ['Not assigned'])[0]\n\n# create new column names\ntables.columns = ['Postal Code', 'Borough', 'Neighbourhood']\ntables.head(5)"
        }, 
        {
            "execution_count": 2, 
            "cell_type": "code", 
            "metadata": {}, 
            "outputs": [], 
            "source": "#Drop the the rows on which the Borough is empty\ntables.dropna(subset=['Borough'], inplace=True)"
        }, 
        {
            "execution_count": 3, 
            "cell_type": "code", 
            "metadata": {}, 
            "outputs": [
                {
                    "output_type": "stream", 
                    "name": "stdout", 
                    "text": "Number of rows on which Neighborhood column is empty: 1\n"
                }
            ], 
            "source": "# Check if Neighborhood has NaN\nNan_Neighborhood = tables[tables['Neighbourhood'].isna()].shape[0]\nprint('Number of rows on which Neighborhood column is empty: {}'.format(Nan_Neighborhood))"
        }, 
        {
            "execution_count": 4, 
            "cell_type": "code", 
            "metadata": {}, 
            "outputs": [
                {
                    "execution_count": 4, 
                    "metadata": {}, 
                    "data": {
                        "text/html": "<div>\n<style scoped>\n    .dataframe tbody tr th:only-of-type {\n        vertical-align: middle;\n    }\n\n    .dataframe tbody tr th {\n        vertical-align: top;\n    }\n\n    .dataframe thead th {\n        text-align: right;\n    }\n</style>\n<table border=\"1\" class=\"dataframe\">\n  <thead>\n    <tr style=\"text-align: right;\">\n      <th></th>\n      <th>Postal Code</th>\n      <th>Borough</th>\n      <th>Neighbourhood</th>\n    </tr>\n  </thead>\n  <tbody>\n    <tr>\n      <th>8</th>\n      <td>M7A</td>\n      <td>Queen's Park</td>\n      <td>NaN</td>\n    </tr>\n  </tbody>\n</table>\n</div>", 
                        "text/plain": "  Postal Code       Borough Neighbourhood\n8         M7A  Queen's Park           NaN"
                    }, 
                    "output_type": "execute_result"
                }
            ], 
            "source": "#Show which neighborhood is emtpy\ntables[tables['Neighbourhood'].isna()]"
        }, 
        {
            "execution_count": 5, 
            "cell_type": "code", 
            "metadata": {}, 
            "outputs": [
                {
                    "output_type": "stream", 
                    "name": "stdout", 
                    "text": "Number of rows on which Neighborhood column is empty: 0\n"
                }
            ], 
            "source": "#Replace empty Neighborhood with Borough name and check again\ntables['Neighbourhood'].fillna(tables['Borough'], inplace=True)\nNan_Neighborhood = tables[tables['Neighbourhood'].isna()].shape[0]\nprint('Number of rows on which Neighborhood column is empty: {}'.format(Nan_Neighborhood))"
        }, 
        {
            "execution_count": 6, 
            "cell_type": "code", 
            "metadata": {}, 
            "outputs": [
                {
                    "execution_count": 6, 
                    "metadata": {}, 
                    "data": {
                        "text/html": "<div>\n<style scoped>\n    .dataframe tbody tr th:only-of-type {\n        vertical-align: middle;\n    }\n\n    .dataframe tbody tr th {\n        vertical-align: top;\n    }\n\n    .dataframe thead th {\n        text-align: right;\n    }\n</style>\n<table border=\"1\" class=\"dataframe\">\n  <thead>\n    <tr style=\"text-align: right;\">\n      <th></th>\n      <th>Postal Code</th>\n      <th>Borough</th>\n      <th>Neighbourhood</th>\n    </tr>\n  </thead>\n  <tbody>\n    <tr>\n      <th>8</th>\n      <td>M7A</td>\n      <td>Queen's Park</td>\n      <td>Queen's Park</td>\n    </tr>\n  </tbody>\n</table>\n</div>", 
                        "text/plain": "  Postal Code       Borough Neighbourhood\n8         M7A  Queen's Park  Queen's Park"
                    }, 
                    "output_type": "execute_result"
                }
            ], 
            "source": "#Confirm that Queen's Park Neighborhood is not empty now:\ntables[tables['Borough']==\"Queen's Park\"]"
        }, 
        {
            "execution_count": 7, 
            "cell_type": "code", 
            "metadata": {}, 
            "outputs": [
                {
                    "execution_count": 7, 
                    "metadata": {}, 
                    "data": {
                        "text/html": "<div>\n<style scoped>\n    .dataframe tbody tr th:only-of-type {\n        vertical-align: middle;\n    }\n\n    .dataframe tbody tr th {\n        vertical-align: top;\n    }\n\n    .dataframe thead th {\n        text-align: right;\n    }\n</style>\n<table border=\"1\" class=\"dataframe\">\n  <thead>\n    <tr style=\"text-align: right;\">\n      <th></th>\n      <th>Postal Code</th>\n      <th>Borough</th>\n      <th>Neighbourhood</th>\n    </tr>\n  </thead>\n  <tbody>\n    <tr>\n      <th>0</th>\n      <td>M1B</td>\n      <td>Scarborough</td>\n      <td>Rouge, Malvern</td>\n    </tr>\n    <tr>\n      <th>1</th>\n      <td>M1C</td>\n      <td>Scarborough</td>\n      <td>Highland Creek, Rouge Hill, Port Union</td>\n    </tr>\n    <tr>\n      <th>2</th>\n      <td>M1E</td>\n      <td>Scarborough</td>\n      <td>Guildwood, Morningside, West Hill</td>\n    </tr>\n    <tr>\n      <th>3</th>\n      <td>M1G</td>\n      <td>Scarborough</td>\n      <td>Woburn</td>\n    </tr>\n    <tr>\n      <th>4</th>\n      <td>M1H</td>\n      <td>Scarborough</td>\n      <td>Cedarbrae</td>\n    </tr>\n  </tbody>\n</table>\n</div>", 
                        "text/plain": "  Postal Code      Borough                           Neighbourhood\n0         M1B  Scarborough                          Rouge, Malvern\n1         M1C  Scarborough  Highland Creek, Rouge Hill, Port Union\n2         M1E  Scarborough       Guildwood, Morningside, West Hill\n3         M1G  Scarborough                                  Woburn\n4         M1H  Scarborough                               Cedarbrae"
                    }, 
                    "output_type": "execute_result"
                }
            ], 
            "source": "#Grouping by Postal code and Borough\npc_grpd = tables.groupby(['Postal Code','Borough']).Neighbourhood.agg([('Neighbourhood', ', '.join)])\npc_grpd.reset_index(inplace=True)\npc_grpd.head(5)"
        }, 
        {
            "execution_count": 8, 
            "cell_type": "code", 
            "metadata": {}, 
            "outputs": [
                {
                    "execution_count": 8, 
                    "metadata": {}, 
                    "data": {
                        "text/plain": "(211, 3)"
                    }, 
                    "output_type": "execute_result"
                }
            ], 
            "source": "tables.shape"
        }, 
        {
            "execution_count": 9, 
            "cell_type": "code", 
            "metadata": {}, 
            "outputs": [
                {
                    "execution_count": 9, 
                    "metadata": {}, 
                    "data": {
                        "text/plain": "\",Postal Code,Borough,Neighbourhood\\n2,M3A,North York,Parkwoods\\n3,M4A,North York,Victoria Village\\n4,M5A,Downtown Toronto,Harbourfront\\n5,M5A,Downtown Toronto,Regent Park\\n6,M6A,North York,Lawrence Heights\\n7,M6A,North York,Lawrence Manor\\n8,M7A,Queen's Park,Queen's Park\\n10,M9A,Etobicoke,Islington Avenue\\n11,M1B,Scarborough,Rouge\\n12,M1B,Scarborough,Malvern\\n14,M3B,North York,Don Mills North\\n15,M4B,East York,Woodbine Gardens\\n16,M4B,East York,Parkview Hill\\n17,M5B,Downtown Toronto,Ryerson\\n18,M5B,Downtown Toronto,Garden District\\n19,M6B,North York,Glencairn\\n22,M9B,Etobicoke,Cloverdale\\n23,M9B,Etobicoke,Islington\\n24,M9B,Etobicoke,Martin Grove\\n25,M9B,Etobicoke,Princess Gardens\\n26,M9B,Etobicoke,West Deane Park\\n27,M1C,Scarborough,Highland Creek\\n28,M1C,Scarborough,Rouge Hill\\n29,M1C,Scarborough,Port Union\\n31,M3C,North York,Flemingdon Park\\n32,M3C,North York,Don Mills South\\n33,M4C,East York,Woodbine Heights\\n34,M5C,Downtown Toronto,St. James Town\\n35,M6C,York,Humewood-Cedarvale\\n38,M9C,Etobicoke,Bloordale Gardens\\n39,M9C,Etobicoke,Eringate\\n40,M9C,Etobicoke,Markland Wood\\n41,M9C,Etobicoke,Old Burnhamthorpe\\n42,M1E,Scarborough,Guildwood\\n43,M1E,Scarborough,Morningside\\n44,M1E,Scarborough,West Hill\\n47,M4E,East Toronto,The Beaches\\n48,M5E,Downtown Toronto,Berczy Park\\n49,M6E,York,Caledonia-Fairbanks\\n53,M1G,Scarborough,Woburn\\n56,M4G,East York,Leaside\\n57,M5G,Downtown Toronto,Central Bay Street\\n58,M6G,Downtown Toronto,Christie\\n62,M1H,Scarborough,Cedarbrae\\n63,M2H,North York,Hillcrest Village\\n64,M3H,North York,Bathurst Manor\\n65,M3H,North York,Downsview North\\n66,M3H,North York,Wilson Heights\\n67,M4H,East York,Thorncliffe Park\\n68,M5H,Downtown Toronto,Adelaide\\n69,M5H,Downtown Toronto,King\\n70,M5H,Downtown Toronto,Richmond\\n71,M6H,West Toronto,Dovercourt Village\\n72,M6H,West Toronto,Dufferin\\n76,M1J,Scarborough,Scarborough Village\\n77,M2J,North York,Fairview\\n78,M2J,North York,Henry Farm\\n79,M2J,North York,Oriole\\n80,M3J,North York,Northwood Park\\n81,M3J,North York,York University\\n82,M4J,East York,East Toronto\\n83,M5J,Downtown Toronto,Harbourfront East\\n84,M5J,Downtown Toronto,Toronto Islands\\n85,M5J,Downtown Toronto,Union Station\\n86,M6J,West Toronto,Little Portugal\\n87,M6J,West Toronto,Trinity\\n91,M1K,Scarborough,East Birchmount Park\\n92,M1K,Scarborough,Ionview\\n93,M1K,Scarborough,Kennedy Park\\n94,M2K,North York,Bayview Village\\n95,M3K,North York,CFB Toronto\\n96,M3K,North York,Downsview East\\n97,M4K,East Toronto,The Danforth West\\n98,M4K,East Toronto,Riverdale\\n99,M5K,Downtown Toronto,Design Exchange\\n100,M5K,Downtown Toronto,Toronto Dominion Centre\\n101,M6K,West Toronto,Brockton\\n102,M6K,West Toronto,Exhibition Place\\n103,M6K,West Toronto,Parkdale Village\\n107,M1L,Scarborough,Clairlea\\n108,M1L,Scarborough,Golden Mile\\n109,M1L,Scarborough,Oakridge\\n110,M2L,North York,Silver Hills\\n111,M2L,North York,York Mills\\n112,M3L,North York,Downsview West\\n113,M4L,East Toronto,The Beaches West\\n114,M4L,East Toronto,India Bazaar\\n115,M5L,Downtown Toronto,Commerce Court\\n116,M5L,Downtown Toronto,Victoria Hotel\\n117,M6L,North York,Downsview\\n118,M6L,North York,North Park\\n119,M6L,North York,Upwood Park\\n122,M9L,North York,Humber Summit\\n123,M1M,Scarborough,Cliffcrest\\n124,M1M,Scarborough,Cliffside\\n125,M1M,Scarborough,Scarborough Village West\\n126,M2M,North York,Newtonbrook\\n127,M2M,North York,Willowdale\\n128,M3M,North York,Downsview Central\\n129,M4M,East Toronto,Studio District\\n130,M5M,North York,Bedford Park\\n131,M5M,North York,Lawrence Manor East\\n132,M6M,York,Del Ray\\n133,M6M,York,Keelesdale\\n134,M6M,York,Mount Dennis\\n135,M6M,York,Silverthorn\\n138,M9M,North York,Emery\\n139,M9M,North York,Humberlea\\n140,M1N,Scarborough,Birch Cliff\\n141,M1N,Scarborough,Cliffside West\\n142,M2N,North York,Willowdale South\\n143,M3N,North York,Downsview Northwest\\n144,M4N,Central Toronto,Lawrence Park\\n145,M5N,Central Toronto,Roselawn\\n146,M6N,York,The Junction North\\n147,M6N,York,Runnymede\\n150,M9N,York,Weston\\n151,M1P,Scarborough,Dorset Park\\n152,M1P,Scarborough,Scarborough Town Centre\\n153,M1P,Scarborough,Wexford Heights\\n154,M2P,North York,York Mills West\\n156,M4P,Central Toronto,Davisville North\\n157,M5P,Central Toronto,Forest Hill North\\n158,M5P,Central Toronto,Forest Hill West\\n159,M6P,West Toronto,High Park\\n160,M6P,West Toronto,The Junction South\\n163,M9P,Etobicoke,Westmount\\n164,M1R,Scarborough,Maryvale\\n165,M1R,Scarborough,Wexford\\n166,M2R,North York,Willowdale West\\n168,M4R,Central Toronto,North Toronto West\\n169,M5R,Central Toronto,The Annex\\n170,M5R,Central Toronto,North Midtown\\n171,M5R,Central Toronto,Yorkville\\n172,M6R,West Toronto,Parkdale\\n173,M6R,West Toronto,Roncesvalles\\n174,M7R,Mississauga,Canada Post Gateway Processing Centre\\n176,M9R,Etobicoke,Kingsview Village\\n177,M9R,Etobicoke,Martin Grove Gardens\\n178,M9R,Etobicoke,Richview Gardens\\n179,M9R,Etobicoke,St. Phillips\\n180,M1S,Scarborough,Agincourt\\n183,M4S,Central Toronto,Davisville\\n184,M5S,Downtown Toronto,Harbord\\n185,M5S,Downtown Toronto,University of Toronto\\n186,M6S,West Toronto,Runnymede\\n187,M6S,West Toronto,Swansea\\n191,M1T,Scarborough,Clarks Corners\\n192,M1T,Scarborough,Sullivan\\n193,M1T,Scarborough,Tam O'Shanter\\n196,M4T,Central Toronto,Moore Park\\n197,M4T,Central Toronto,Summerhill East\\n198,M5T,Downtown Toronto,Chinatown\\n199,M5T,Downtown Toronto,Grange Park\\n200,M5T,Downtown Toronto,Kensington Market\\n205,M1V,Scarborough,Agincourt North\\n206,M1V,Scarborough,L'Amoreaux East\\n207,M1V,Scarborough,Milliken\\n208,M1V,Scarborough,Steeles East\\n211,M4V,Central Toronto,Deer Park\\n212,M4V,Central Toronto,Forest Hill SE\\n213,M4V,Central Toronto,Rathnelly\\n214,M4V,Central Toronto,South Hill\\n215,M4V,Central Toronto,Summerhill West\\n216,M5V,Downtown Toronto,CN Tower\\n217,M5V,Downtown Toronto,Bathurst Quay\\n218,M5V,Downtown Toronto,Island airport\\n219,M5V,Downtown Toronto,Harbourfront West\\n220,M5V,Downtown Toronto,King and Spadina\\n221,M5V,Downtown Toronto,Railway Lands\\n222,M5V,Downtown Toronto,South Niagara\\n225,M8V,Etobicoke,Humber Bay Shores\\n226,M8V,Etobicoke,Mimico South\\n227,M8V,Etobicoke,New Toronto\\n228,M9V,Etobicoke,Albion Gardens\\n229,M9V,Etobicoke,Beaumond Heights\\n230,M9V,Etobicoke,Humbergate\\n231,M9V,Etobicoke,Jamestown\\n232,M9V,Etobicoke,Mount Olive\\n233,M9V,Etobicoke,Silverstone\\n234,M9V,Etobicoke,South Steeles\\n235,M9V,Etobicoke,Thistletown\\n236,M1W,Scarborough,L'Amoreaux West\\n239,M4W,Downtown Toronto,Rosedale\\n240,M5W,Downtown Toronto,Stn A PO Boxes 25 The Esplanade\\n243,M8W,Etobicoke,Alderwood\\n244,M8W,Etobicoke,Long Branch\\n245,M9W,Etobicoke,Northwest\\n246,M1X,Scarborough,Upper Rouge\\n249,M4X,Downtown Toronto,Cabbagetown\\n250,M4X,Downtown Toronto,St. James Town\\n251,M5X,Downtown Toronto,First Canadian Place\\n252,M5X,Downtown Toronto,Underground city\\n255,M8X,Etobicoke,The Kingsway\\n256,M8X,Etobicoke,Montgomery Road\\n257,M8X,Etobicoke,Old Mill North\\n262,M4Y,Downtown Toronto,Church and Wellesley\\n265,M7Y,East Toronto,Business Reply Mail Processing Centre 969 Eastern\\n266,M8Y,Etobicoke,Humber Bay\\n267,M8Y,Etobicoke,King's Mill Park\\n268,M8Y,Etobicoke,Kingsway Park South East\\n269,M8Y,Etobicoke,Mimico NE\\n270,M8Y,Etobicoke,Old Mill South\\n271,M8Y,Etobicoke,The Queensway East\\n272,M8Y,Etobicoke,Royal York South East\\n273,M8Y,Etobicoke,Sunnylea\\n282,M8Z,Etobicoke,Kingsway Park South West\\n283,M8Z,Etobicoke,Mimico NW\\n284,M8Z,Etobicoke,The Queensway West\\n285,M8Z,Etobicoke,Royal York South West\\n286,M8Z,Etobicoke,South of Bloor\\n\""
                    }, 
                    "output_type": "execute_result"
                }
            ], 
            "source": "tables.to_csv()"
        }, 
        {
            "execution_count": null, 
            "cell_type": "code", 
            "metadata": {}, 
            "outputs": [], 
            "source": ""
        }, 
        {
            "execution_count": null, 
            "cell_type": "code", 
            "metadata": {}, 
            "outputs": [], 
            "source": ""
        }
    ], 
    "metadata": {
        "kernelspec": {
            "display_name": "Python 3.5", 
            "name": "python3", 
            "language": "python"
        }, 
        "language_info": {
            "mimetype": "text/x-python", 
            "nbconvert_exporter": "python", 
            "version": "3.5.5", 
            "name": "python", 
            "file_extension": ".py", 
            "pygments_lexer": "ipython3", 
            "codemirror_mode": {
                "version": 3, 
                "name": "ipython"
            }
        }
    }, 
    "nbformat": 4
}